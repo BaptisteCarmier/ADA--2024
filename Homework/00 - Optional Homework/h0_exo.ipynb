{
 "cells": [
  {
   "cell_type": "code",
   "execution_count": 28,
   "id": "2c554e6c-eef7-4467-9112-a46c2a0d08c5",
   "metadata": {},
   "outputs": [],
   "source": [
    "import pandas as pd\n",
    "import os "
   ]
  },
  {
   "cell_type": "code",
   "execution_count": 29,
   "id": "c360650d-7366-4220-aad0-ddd88a289ffc",
   "metadata": {},
   "outputs": [
    {
     "data": {
      "text/html": [
       "<div>\n",
       "<style scoped>\n",
       "    .dataframe tbody tr th:only-of-type {\n",
       "        vertical-align: middle;\n",
       "    }\n",
       "\n",
       "    .dataframe tbody tr th {\n",
       "        vertical-align: top;\n",
       "    }\n",
       "\n",
       "    .dataframe thead th {\n",
       "        text-align: right;\n",
       "    }\n",
       "</style>\n",
       "<table border=\"1\" class=\"dataframe\">\n",
       "  <thead>\n",
       "    <tr style=\"text-align: right;\">\n",
       "      <th></th>\n",
       "      <th>Intent</th>\n",
       "      <th>Gender</th>\n",
       "      <th>Age</th>\n",
       "      <th>Race</th>\n",
       "      <th>Deaths</th>\n",
       "      <th>Population</th>\n",
       "      <th>Rate</th>\n",
       "    </tr>\n",
       "  </thead>\n",
       "  <tbody>\n",
       "    <tr>\n",
       "      <th>1</th>\n",
       "      <td>None selected</td>\n",
       "      <td>None selected</td>\n",
       "      <td>None selected</td>\n",
       "      <td>None selected</td>\n",
       "      <td>33599</td>\n",
       "      <td>316299978</td>\n",
       "      <td>10.6</td>\n",
       "    </tr>\n",
       "    <tr>\n",
       "      <th>2</th>\n",
       "      <td>None selected</td>\n",
       "      <td>None selected</td>\n",
       "      <td>None selected</td>\n",
       "      <td>White</td>\n",
       "      <td>22079</td>\n",
       "      <td>197369634</td>\n",
       "      <td>11.2</td>\n",
       "    </tr>\n",
       "    <tr>\n",
       "      <th>3</th>\n",
       "      <td>None selected</td>\n",
       "      <td>None selected</td>\n",
       "      <td>None selected</td>\n",
       "      <td>Black</td>\n",
       "      <td>7765</td>\n",
       "      <td>38896382</td>\n",
       "      <td>20.0</td>\n",
       "    </tr>\n",
       "    <tr>\n",
       "      <th>4</th>\n",
       "      <td>None selected</td>\n",
       "      <td>None selected</td>\n",
       "      <td>None selected</td>\n",
       "      <td>Hispanic</td>\n",
       "      <td>3007</td>\n",
       "      <td>54049078</td>\n",
       "      <td>5.6</td>\n",
       "    </tr>\n",
       "    <tr>\n",
       "      <th>5</th>\n",
       "      <td>None selected</td>\n",
       "      <td>None selected</td>\n",
       "      <td>None selected</td>\n",
       "      <td>Asian/Pacific Islander</td>\n",
       "      <td>442</td>\n",
       "      <td>16315561</td>\n",
       "      <td>2.7</td>\n",
       "    </tr>\n",
       "  </tbody>\n",
       "</table>\n",
       "</div>"
      ],
      "text/plain": [
       "          Intent         Gender            Age                    Race  \\\n",
       "1  None selected  None selected  None selected           None selected   \n",
       "2  None selected  None selected  None selected                   White   \n",
       "3  None selected  None selected  None selected                   Black   \n",
       "4  None selected  None selected  None selected                Hispanic   \n",
       "5  None selected  None selected  None selected  Asian/Pacific Islander   \n",
       "\n",
       "   Deaths  Population  Rate  \n",
       "1   33599   316299978  10.6  \n",
       "2   22079   197369634  11.2  \n",
       "3    7765    38896382  20.0  \n",
       "4    3007    54049078   5.6  \n",
       "5     442    16315561   2.7  "
      ]
     },
     "execution_count": 29,
     "metadata": {},
     "output_type": "execute_result"
    }
   ],
   "source": [
    "## Reading the 'interactive_data.csv' file as a pandas dataframe\n",
    "PATH_IN = './data/'\n",
    "fname = os.path.join(PATH_IN, 'interactive_data.csv')\n",
    "df = pd.read_csv(fname, index_col=0)\n",
    "df_copy = df.copy(deep=True)\n",
    "df.head(5)"
   ]
  },
  {
   "cell_type": "code",
   "execution_count": 30,
   "id": "7a26a075-a22f-4fe9-95ff-8f4ef218cddc",
   "metadata": {},
   "outputs": [],
   "source": [
    "df_filtered = df.loc[~(df=='None selected').any(axis=1)]"
   ]
  },
  {
   "cell_type": "code",
   "execution_count": 38,
   "id": "d1a2da0f-76cb-454a-8686-dab5dad1c8c4",
   "metadata": {},
   "outputs": [
    {
     "name": "stdout",
     "output_type": "stream",
     "text": [
      "62.68194671826165\n"
     ]
    }
   ],
   "source": [
    "## Nearly *two-thirds* of gun deaths are *suicides*\n",
    "\n",
    "all_deaths = df_filtered['Deaths'].sum()\n",
    "\n",
    "suicides = df_filtered[df_filtered['Intent']=='Suicide']['Deaths'].sum()\n",
    "result_suicide = suicides/all_deaths \n",
    "print(result_suicide*100)"
   ]
  },
  {
   "cell_type": "code",
   "execution_count": 39,
   "id": "06f66944-2f20-4075-b3b3-9fdbb597a004",
   "metadata": {},
   "outputs": [
    {
     "name": "stdout",
     "output_type": "stream",
     "text": [
      "86.24275809668535\n"
     ]
    }
   ],
   "source": [
    "## More than *85 percent* of suicide victims are *male*.\n",
    "male = df_filtered[(df_filtered['Intent']=='Suicide')&\n",
    "                    (df_filtered['Gender']=='Male')]['Deaths'].sum() \n",
    "male_suicide = male/suicides\n",
    "print(male_suicide*100)"
   ]
  },
  {
   "cell_type": "code",
   "execution_count": 40,
   "id": "e90bd772-54b6-42c4-9a11-62717288a80c",
   "metadata": {},
   "outputs": [
    {
     "name": "stdout",
     "output_type": "stream",
     "text": [
      "34.906980205387704\n"
     ]
    }
   ],
   "source": [
    "## Around *a third* of all gun deaths are *homicides*.\n",
    "\n",
    "homicide = df_filtered[df_filtered['Intent']=='Homicide']['Deaths'].sum()\n",
    "result_homicide = homicide/all_deaths\n",
    "print(result_homicide*100)"
   ]
  },
  {
   "cell_type": "code",
   "execution_count": 42,
   "id": "166f5d62-60df-49c1-9c63-4b5e471ebf3d",
   "metadata": {},
   "outputs": [
    {
     "name": "stdout",
     "output_type": "stream",
     "text": [
      "66.12482748044778\n"
     ]
    }
   ],
   "source": [
    "## Around *two-thirds* of homicide victims who are *males* in the *age-group of 15--34* are *black*.\n",
    "\n",
    "black_male_homicide = df_filtered[(df_filtered['Intent']=='Homicide')&\n",
    "                    (df_filtered['Gender']=='Male')&\n",
    "                    (df_filtered['Age']=='15 - 34')&\n",
    "                    (df_filtered['Race']=='Black')]['Deaths'].sum()\n",
    "\n",
    "young_male_homicide = df_filtered[(df_filtered['Intent']=='Homicide')&\n",
    "                    (df_filtered['Gender']=='Male')&\n",
    "                    (df_filtered['Age']=='15 - 34')]['Deaths'].sum()\n",
    "result_black = black_male_homicide/young_male_homicide\n",
    "print(result_black*100)"
   ]
  },
  {
   "cell_type": "code",
   "execution_count": 46,
   "id": "ebda201d-8dd7-40fd-8166-86fe7c9f8a10",
   "metadata": {},
   "outputs": [
    {
     "name": "stdout",
     "output_type": "stream",
     "text": [
      "15.289502856655583\n"
     ]
    }
   ],
   "source": [
    "## *Women* constitue only *15 percent* of the total *homicide* victims.\n",
    "\n",
    "women_homicide=df_filtered[(df_filtered['Intent']=='Homicide')&\n",
    "                            (df_filtered['Gender']=='Female')]['Deaths'].sum()\n",
    "\n",
    "result_women = women_homicide/homicide\n",
    "print(result_women*100)"
   ]
  },
  {
   "cell_type": "code",
   "execution_count": null,
   "id": "b43d00d5-73ac-4c5c-b191-09235efc739c",
   "metadata": {},
   "outputs": [],
   "source": []
  }
 ],
 "metadata": {
  "kernelspec": {
   "display_name": "Python [conda env:ada] *",
   "language": "python",
   "name": "conda-env-ada-py"
  },
  "language_info": {
   "codemirror_mode": {
    "name": "ipython",
    "version": 3
   },
   "file_extension": ".py",
   "mimetype": "text/x-python",
   "name": "python",
   "nbconvert_exporter": "python",
   "pygments_lexer": "ipython3",
   "version": "3.11.9"
  }
 },
 "nbformat": 4,
 "nbformat_minor": 5
}
